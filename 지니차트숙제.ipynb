{
  "nbformat": 4,
  "nbformat_minor": 0,
  "metadata": {
    "colab": {
      "provenance": []
    },
    "kernelspec": {
      "name": "python3",
      "display_name": "Python 3"
    },
    "language_info": {
      "name": "python"
    }
  },
  "cells": [
    {
      "cell_type": "code",
      "execution_count": 14,
      "metadata": {
        "id": "B5-MEvXd_6PR"
      },
      "outputs": [],
      "source": [
        "import requests\n",
        "from bs4 import BeautifulSoup\n",
        "import pandas as pd\n",
        "\n",
        "def genie_chart():\n",
        "    header = {\n",
        "        'User-Agent': 'Mozilla/5.0 (Windows NT 10.0; Win64; x64) AppleWebKit/537.36 (KHTML, like Gecko) Chrome/119.0.0.0 Safari/537.36'\n",
        "    }\n",
        "\n",
        "    base_url = 'https://www.genie.co.kr/chart/top200'\n",
        "    site_list = ['', '?ditc=D&ymd=20231122&hh=15&rtm=Y&pg=2', '?ditc=D&ymd=20231122&hh=15&rtm=Y&pg=3', '?ditc=D&ymd=20231122&hh=15&rtm=Y&pg=4']\n",
        "\n",
        "    song_list = []\n",
        "\n",
        "    for page, site in enumerate(site_list, start=1):\n",
        "        url = f'{base_url}{site}'\n",
        "        request = requests.get(url, headers=header)\n",
        "        soup = BeautifulSoup(request.text, 'html.parser')\n",
        "\n",
        "        div_1 = soup.find('div', {'class': 'music-list-wrap'})\n",
        "        list_wrap = div_1.find('table', {'class': 'list-wrap'})\n",
        "        tbody = list_wrap.find('tbody')\n",
        "\n",
        "        for i, tr in enumerate(tbody.find_all('tr', {'class': 'list'})):\n",
        "            music_info = tr.find('td', {'class': 'info'})\n",
        "            title = music_info.find('a', {'class': 'title ellipsis'}).text.strip()\n",
        "            artist = music_info.find('a', {'class': 'artist ellipsis'}).text.strip().split('\\n')[0]\n",
        "            rank = (page - 1) * 50 + i + 1\n",
        "\n",
        "            song = {'Rank': rank, 'Artist': artist, 'Title': title}\n",
        "            song_list.append(song)\n",
        "\n",
        "    return song_list\n",
        "\n",
        "\n",
        "result = genie_chart()\n",
        "\n",
        "df = pd.DataFrame(result)\n",
        "\n",
        "df.to_excel('genie_chart.xlsx')\n"
      ]
    }
  ]
}